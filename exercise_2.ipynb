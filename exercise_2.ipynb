{
 "cells": [
  {
   "cell_type": "code",
   "execution_count": 4,
   "metadata": {
    "hide_input": true,
    "init_cell": true,
    "scrolled": false
   },
   "outputs": [],
   "source": [
    "from IPython.core.display import display, HTML, Markdown, display_html, clear_output, Javascript\n",
    "from ipywidgets import Button, HBox, VBox, widgets\n",
    "from string import Template\n",
    "import ipysheet\n",
    "import pandas as pd\n",
    "import json, random\n",
    "import yaml\n",
    "import math\n",
    "import time\n",
    "import re\n",
    "import os\n",
    "from os import path\n",
    "\n",
    "#verificatori\n",
    "from exercise_2.verifier.lis import lis\n",
    "from exercise_2.verifier.nSeq import nSequenza\n",
    "from exercise_2.verifier.lisWithNumber import lisWithNumber\n",
    "from exercise_2.verifier.liscutrange import lisSubwithoutElementInRange\n",
    "from exercise_2.verifier.minNsubDesc import minimoNumSubDESC\n",
    "from exercise_2.verifier.final_results import save_results"
   ]
  },
  {
   "cell_type": "code",
   "execution_count": 5,
   "metadata": {
    "hide_input": true,
    "init_cell": true
   },
   "outputs": [
    {
     "data": {
      "application/vnd.jupyter.widget-view+json": {
       "model_id": "f156554e35fc426c838c78c31f43ca3a",
       "version_major": 2,
       "version_minor": 0
      },
      "text/plain": [
       "Button(description='Run', style=ButtonStyle())"
      ]
     },
     "metadata": {},
     "output_type": "display_data"
    },
    {
     "data": {
      "application/vnd.jupyter.widget-view+json": {
       "model_id": "30af87efcdb8477283873045c52eb703",
       "version_major": 2,
       "version_minor": 0
      },
      "text/plain": [
       "Output()"
      ]
     },
     "metadata": {},
     "output_type": "display_data"
    }
   ],
   "source": [
    "button_run = widgets.Button(description=\"Run\")\n",
    "output_run = widgets.Output()\n",
    "display(button_run, output_run)\n",
    "\n",
    "def on_run_clicked1(b):\n",
    "    with output_run:\n",
    "        display(Javascript('''\n",
    "        function sleep2(milliseconds) {\n",
    "          var start = new Date().getTime();\n",
    "          for (var i = 0; i < 1e7; i++) {\n",
    "            if ((new Date().getTime() - start) > milliseconds){\n",
    "              break;\n",
    "            }\n",
    "          }\n",
    "        }\n",
    "        var k = 3\n",
    "        //IPython.notebook.execute_cells([0])\n",
    "        try{\n",
    "            while(k < 50){\n",
    "                IPython.notebook.execute_cells([k])\n",
    "                k = k+1\n",
    "                sleep2(50)\n",
    "            }\n",
    "        }catch{}\n",
    "        '''))\n",
    "button_run.on_click(on_run_clicked1)"
   ]
  },
  {
   "cell_type": "code",
   "execution_count": 6,
   "metadata": {
    "hide_input": true,
    "init_cell": true
   },
   "outputs": [
    {
     "data": {
      "application/javascript": [
       "var kernel = IPython.notebook.kernel;\n",
       "var thename = window.document.getElementById(\"notebook_name\").innerHTML;\n",
       "var command = \"theNotebook = \" + \"'\"+thename+\"'\";\n",
       "kernel.execute(command);\n"
      ],
      "text/plain": [
       "<IPython.core.display.Javascript object>"
      ]
     },
     "metadata": {},
     "output_type": "display_data"
    }
   ],
   "source": [
    "%%javascript\n",
    "var kernel = IPython.notebook.kernel;\n",
    "var thename = window.document.getElementById(\"notebook_name\").innerHTML;\n",
    "var command = \"theNotebook = \" + \"'\"+thename+\"'\";\n",
    "kernel.execute(command);"
   ]
  },
  {
   "cell_type": "code",
   "execution_count": null,
   "metadata": {
    "hide_input": true,
    "scrolled": true
   },
   "outputs": [],
   "source": [
    "str_list = theNotebook.split(\"_\")\n",
    "exercise = str_list[1]\n",
    "%run -i \"exercise_2/script/load_config.py\"\n",
    "txt = open(yaml_text[0], 'r',encoding='utf-8')\n",
    "content = txt.read()\n",
    "text_str = \"# \"+ str_list[0].upper() + \" \" + str_list[1] + \"\\n\" + content\n",
    "Markdown(text_str)\n",
    "\n",
    "#txt = open(yaml_text[0], 'r',encoding='utf-8')\n",
    "#content = txt.read()\n",
    "#Markdown(content)\n",
    "\n",
    "\n",
    "\n"
   ]
  },
  {
   "cell_type": "code",
   "execution_count": null,
   "metadata": {
    "hide_input": true,
    "scrolled": true
   },
   "outputs": [],
   "source": [
    "file = open(yaml_table_path, 'r',encoding='utf-8')\n",
    "    \n",
    "data = []\n",
    "\n",
    "for line in file.readlines():\n",
    "    data.append(line.split(' '))\n",
    "\n",
    "df = pd.DataFrame(data=data)\n",
    "df.columns = [i for  i in range(1, len(data[0])+1)]\n",
    "\n",
    "display_html(df.to_html(index=False), raw=True)              "
   ]
  },
  {
   "cell_type": "code",
   "execution_count": null,
   "metadata": {
    "hide_input": true,
    "scrolled": false
   },
   "outputs": [],
   "source": [
    "print(\"Qui puoi compilare la tabella di supporto\")\n",
    "\n",
    "if path.exists(\"./exercise_2/data/tmp/tablesupp.txt\"):\n",
    "    f = open(\"./exercise_2/data/tmp/tablesupp.txt\", \"r\")\n",
    "    lines = f.readlines()\n",
    "    num=[]\n",
    "    for line in lines:\n",
    "        num.append([int(s) for s in re.findall(r'\\b\\d+\\b', line)])\n",
    "    sheet1=ipysheet.sheet(rows=5,columns=len(df.columns),column_headers=False, row_headers=False)\n",
    "    values=df.values.tolist()\n",
    "    for i in range(0,len(df.columns)):\n",
    "        ipysheet.cell(0,i,\"-->\",read_only=True)\n",
    "        ipysheet.cell(1,i,str(num[0][i]))\n",
    "        ipysheet.cell(2,i,values[0][i],read_only=True)\n",
    "        ipysheet.cell(3,i,str(num[1][i]))\n",
    "        ipysheet.cell(4,i,\"<--\",read_only=True)\n",
    "    \n",
    "else:\n",
    "    sheet1=ipysheet.sheet(rows=5,columns=len(df.columns),column_headers=False, row_headers=False)\n",
    "    values=df.values.tolist()\n",
    "    for i in range(0,len(df.columns)):\n",
    "        ipysheet.cell(0,i,\"-->\",read_only=True)\n",
    "        ipysheet.cell(1,i,\"0\")\n",
    "        ipysheet.cell(2,i,values[0][i],read_only=True)\n",
    "        ipysheet.cell(3,i,\"0\")\n",
    "        ipysheet.cell(4,i,\"<--\",read_only=True)\n",
    "\n",
    "sheet1"
   ]
  },
  {
   "cell_type": "code",
   "execution_count": null,
   "metadata": {
    "hide_input": true,
    "scrolled": true
   },
   "outputs": [],
   "source": [
    "words = ['Reset Tabella', 'Salva Tabella']\n",
    "items = [Button(description=w) for w in words]\n",
    "left_box = VBox([items[0]])\n",
    "right_box = VBox([items[1]])\n",
    "\n",
    "def reset0(_):\n",
    "    if path.exists(\"./exercise_2/data/tmp/tablesupp.txt\"):\n",
    "        os.remove(\"./exercise_2/data/tmp/tablesupp.txt\")\n",
    "    display(Javascript('IPython.notebook.execute_cells([5])'))\n",
    "\n",
    "def save0(_):\n",
    "    f = open(\"./exercise_2/data/tmp/tablesupp.txt\", \"w\")\n",
    "    f.write(str(list(map(int,ipysheet.to_array(sheet1)[1])))+\"\\n\")\n",
    "    f.write(str(list(map(int,ipysheet.to_array(sheet1)[3]))))\n",
    "    f.close()\n",
    "    print(\"Tabella salvata\")\n",
    "    time.sleep(3)\n",
    "    display(Javascript('IPython.notebook.execute_cells([6])'))\n",
    "        \n",
    "items[0].on_click(reset0)\n",
    "items[1].on_click(save0)\n",
    "\n",
    "HBox([left_box, right_box])\n"
   ]
  },
  {
   "cell_type": "code",
   "execution_count": null,
   "metadata": {
    "hide_input": true,
    "pycharm": {
     "name": "#%%\n"
    }
   },
   "outputs": [],
   "source": [
    "txt = open(yaml_text[1], 'r',encoding='utf-8')\n",
    "content = txt.read()\n",
    "Markdown(content)"
   ]
  },
  {
   "cell_type": "code",
   "execution_count": null,
   "metadata": {
    "hide_input": true
   },
   "outputs": [],
   "source": [
    "print(\"Lunghezza della sottosequenza crescente più lunga:\")\n",
    "maxsubseq=widgets.IntText(\n",
    "    value=1,\n",
    "    disabled=False\n",
    ")\n",
    "display(maxsubseq)\n",
    "\n",
    "#9"
   ]
  },
  {
   "cell_type": "code",
   "execution_count": null,
   "metadata": {
    "hide_input": true,
    "scrolled": true
   },
   "outputs": [],
   "source": [
    "button0 = widgets.Button(description='Crea tabella')\n",
    "out = widgets.Output()\n",
    "def on_button_clicked0(_):\n",
    "      # \"linking function with output\"\n",
    "      with out:\n",
    "        display(Javascript('IPython.notebook.execute_cells([10])'))\n",
    "          # what happens when we press the button\n",
    "          #result1 = p_1(graph1)\n",
    "          #clear_output()\n",
    "          #print(result1)\n",
    "button0.on_click(on_button_clicked0)\n",
    "# displaying button and its output together\n",
    "widgets.VBox([button0,out])"
   ]
  },
  {
   "cell_type": "code",
   "execution_count": null,
   "metadata": {
    "hide_input": true,
    "scrolled": true
   },
   "outputs": [],
   "source": [
    "if path.exists(\"./exercise_2/data/tmp/es1.txt\"):\n",
    "    f = open(\"./exercise_2/data/tmp/es1.txt\", \"r\")\n",
    "    line = f.readline()\n",
    "    num=[int(s) for s in re.findall(r'\\b\\d+\\b', line)]\n",
    "    lunghezza=len(num)\n",
    "    sheet2=ipysheet.sheet(rows=1,columns=lunghezza,column_headers=False, row_headers=False)\n",
    "    for i in range(0,lunghezza):\n",
    "        ipysheet.cell(0,i,str(num[i]))\n",
    "else:\n",
    "    lunghezza=int(maxsubseq.value)\n",
    "    sheet2=ipysheet.sheet(rows=1,columns=lunghezza,column_headers=False, row_headers=False)\n",
    "    for i in range(0,lunghezza):\n",
    "        ipysheet.cell(0,i,\"0\")\n",
    "\n",
    "sheet2\n",
    "#34, 42, 44, 49, 52, 63, 69, 79, 81"
   ]
  },
  {
   "cell_type": "code",
   "execution_count": null,
   "metadata": {
    "hide_input": true,
    "scrolled": true
   },
   "outputs": [],
   "source": [
    "words = ['Reset Tabella', 'Submit']\n",
    "items = [Button(description=w) for w in words]\n",
    "left_box = VBox([items[0]])\n",
    "right_box = VBox([items[1]])\n",
    "\n",
    "def reset1(_):\n",
    "    if path.exists(\"./exercise_2/data/tmp/es1.txt\"):\n",
    "        os.remove(\"./exercise_2/data/tmp/es1.txt\")\n",
    "    display(Javascript('IPython.notebook.execute_cells([10])'))\n",
    "\n",
    "def verify1(_):\n",
    "    f = open(\"./exercise_2/data/tmp/es1.txt\", \"w\")\n",
    "    f.write(str(list(map(int,ipysheet.to_array(sheet2)[0]))))\n",
    "    f.close()\n",
    "    lis(values[0], list(ipysheet.to_array(sheet2)[0]), lunghezza)\n",
    "    time.sleep(5)\n",
    "    display(Javascript('IPython.notebook.execute_cells([11])'))\n",
    "    \n",
    "        \n",
    "items[0].on_click(reset1)\n",
    "items[1].on_click(verify1)\n",
    "\n",
    "HBox([left_box, right_box])\n"
   ]
  },
  {
   "cell_type": "code",
   "execution_count": null,
   "metadata": {
    "hide_input": true,
    "pycharm": {
     "name": "#%%\n"
    }
   },
   "outputs": [],
   "source": [
    "txt = open(yaml_text[2], 'r',encoding='utf-8')\n",
    "content = txt.read()\n",
    "Markdown(content)"
   ]
  },
  {
   "cell_type": "code",
   "execution_count": null,
   "metadata": {
    "hide_input": true,
    "scrolled": true
   },
   "outputs": [],
   "source": [
    "print(\"Lunghezza della sottosequenza crescente più lunga:\")\n",
    "nseqlen=widgets.IntText(\n",
    "    value=1,\n",
    "    disabled=False\n",
    ")\n",
    "display(nseqlen)\n",
    "\n",
    "#14"
   ]
  },
  {
   "cell_type": "code",
   "execution_count": null,
   "metadata": {
    "hide_input": true
   },
   "outputs": [],
   "source": [
    "button1 = widgets.Button(description='Crea tabella')\n",
    "out = widgets.Output()\n",
    "def on_button_clicked1(_):\n",
    "      # \"linking function with output\"\n",
    "      with out:\n",
    "        display(Javascript('IPython.notebook.execute_cells([15])'))\n",
    "          # what happens when we press the button\n",
    "          #result1 = p_1(graph1)\n",
    "          #clear_output()\n",
    "          #print(result1)\n",
    "button1.on_click(on_button_clicked1)\n",
    "# displaying button and its output together\n",
    "widgets.VBox([button1,out])"
   ]
  },
  {
   "cell_type": "code",
   "execution_count": null,
   "metadata": {
    "hide_input": true,
    "scrolled": true
   },
   "outputs": [],
   "source": [
    "if path.exists(\"./exercise_2/data/tmp/es2.txt\"):\n",
    "    f = open(\"./exercise_2/data/tmp/es2.txt\", \"r\")\n",
    "    line = f.readline()\n",
    "    num=[int(s) for s in re.findall(r'\\b\\d+\\b', line)]\n",
    "    lunghezza2=len(num)\n",
    "    sheet3=ipysheet.sheet(rows=1,columns=lunghezza2,column_headers=False, row_headers=False)\n",
    "    for i in range(0,lunghezza2):\n",
    "        ipysheet.cell(0,i,str(num[i]))\n",
    "else:\n",
    "    lunghezza2=int(nseqlen.value)\n",
    "    sheet3=ipysheet.sheet(rows=1,columns=lunghezza2,column_headers=False, row_headers=False)\n",
    "    for i in range(0,lunghezza2):\n",
    "        ipysheet.cell(0,i,\"0\")\n",
    "\n",
    "sheet3\n",
    "#34, 42, 44, 49, 52, 63, 69, 79, 81, 43, 46, 61, 64, 73"
   ]
  },
  {
   "cell_type": "code",
   "execution_count": null,
   "metadata": {
    "hide_input": true
   },
   "outputs": [],
   "source": [
    "words = ['Reset Tabella', 'Submit']\n",
    "items = [Button(description=w) for w in words]\n",
    "left_box = VBox([items[0]])\n",
    "right_box = VBox([items[1]])\n",
    "\n",
    "def reset2(_):\n",
    "    if path.exists(\"./exercise_2/data/tmp/es2.txt\"):\n",
    "        os.remove(\"./exercise_2/data/tmp/es2.txt\")\n",
    "    display(Javascript('IPython.notebook.execute_cells([15])'))\n",
    "\n",
    "\n",
    "def verify2(_):\n",
    "    f = open(\"./exercise_2/data/tmp/es2.txt\", \"w\")\n",
    "    f.write(str(list(map(int,ipysheet.to_array(sheet3)[0]))))\n",
    "    f.close()\n",
    "    nSequenza(values[0], list(ipysheet.to_array(sheet3)[0]), lunghezza2)\n",
    "    time.sleep(5)\n",
    "    display(Javascript('IPython.notebook.execute_cells([16])'))\n",
    "    \n",
    "        \n",
    "items[0].on_click(reset2)\n",
    "items[1].on_click(verify2)\n",
    "\n",
    "HBox([left_box, right_box])\n"
   ]
  },
  {
   "cell_type": "code",
   "execution_count": null,
   "metadata": {
    "hide_input": true,
    "pycharm": {
     "name": "#%%\n"
    }
   },
   "outputs": [],
   "source": [
    "txt = open(yaml_text[3], 'r',encoding='utf-8')\n",
    "content = txt.read()\n",
    "Markdown(content)"
   ]
  },
  {
   "cell_type": "code",
   "execution_count": null,
   "metadata": {
    "hide_input": true,
    "scrolled": true
   },
   "outputs": [],
   "source": [
    "print(\"Lunghezza della sottosequenza crescente più lunga:\")\n",
    "maxsubseq2=widgets.IntText(\n",
    "    value=1,\n",
    "    disabled=False\n",
    ")\n",
    "display(maxsubseq2)\n",
    "#7"
   ]
  },
  {
   "cell_type": "code",
   "execution_count": null,
   "metadata": {
    "hide_input": true
   },
   "outputs": [],
   "source": [
    "button2 = widgets.Button(description='Crea tabella')\n",
    "out = widgets.Output()\n",
    "def on_button_clicked2(_):\n",
    "      # \"linking function with output\"\n",
    "      with out:\n",
    "        display(Javascript('IPython.notebook.execute_cells([20])'))\n",
    "          # what happens when we press the button\n",
    "          #result1 = p_1(graph1)\n",
    "          #clear_output()\n",
    "          #print(result1)\n",
    "button2.on_click(on_button_clicked2)\n",
    "# displaying button and its output together\n",
    "widgets.VBox([button2,out])"
   ]
  },
  {
   "cell_type": "code",
   "execution_count": null,
   "metadata": {
    "hide_input": true
   },
   "outputs": [],
   "source": [
    "if path.exists(\"./exercise_2/data/tmp/es3.txt\"):\n",
    "    f = open(\"./exercise_2/data/tmp/es3.txt\", \"r\")\n",
    "    line = f.readline()\n",
    "    num=[int(s) for s in re.findall(r'\\b\\d+\\b', line)]\n",
    "    lunghezza3=len(num)\n",
    "    sheet4=ipysheet.sheet(rows=1,columns=lunghezza3,column_headers=False, row_headers=False)\n",
    "    for i in range(0,lunghezza3):\n",
    "        ipysheet.cell(0,i,str(num[i]))\n",
    "else:\n",
    "    lunghezza3=int(maxsubseq2.value)\n",
    "    sheet4=ipysheet.sheet(rows=1,columns=lunghezza3,column_headers=False, row_headers=False)\n",
    "    for i in range(0,lunghezza3):\n",
    "        ipysheet.cell(0,i,\"0\")\n",
    "\n",
    "sheet4\n",
    "\n",
    "#34, 40, 45, 54, 61, 64, 73"
   ]
  },
  {
   "cell_type": "code",
   "execution_count": null,
   "metadata": {
    "hide_input": true,
    "scrolled": true
   },
   "outputs": [],
   "source": [
    "words = ['Reset Tabella', 'Submit']\n",
    "items = [Button(description=w) for w in words]\n",
    "left_box = VBox([items[0]])\n",
    "right_box = VBox([items[1]])\n",
    "\n",
    "def reset3(_):\n",
    "    if path.exists(\"./exercise_2/data/tmp/es3.txt\"):\n",
    "        os.remove(\"./exercise_2/data/tmp/es3.txt\")\n",
    "    display(Javascript('IPython.notebook.execute_cells([20])'))\n",
    "\n",
    "def verify3(_):\n",
    "    f = open(\"./exercise_2/data/tmp/es3.txt\", \"w\")\n",
    "    f.write(str(list(map(int,ipysheet.to_array(sheet4)[0]))))\n",
    "    f.close()\n",
    "    lisWithNumber(values[0], list(ipysheet.to_array(sheet4)[0]), lunghezza3, 40)\n",
    "    time.sleep(5)\n",
    "    display(Javascript('IPython.notebook.execute_cells([21])'))\n",
    "    \n",
    "        \n",
    "items[0].on_click(reset3)\n",
    "items[1].on_click(verify3)\n",
    "\n",
    "HBox([left_box, right_box])"
   ]
  },
  {
   "cell_type": "code",
   "execution_count": null,
   "metadata": {
    "hide_input": true,
    "pycharm": {
     "name": "#%%\n"
    }
   },
   "outputs": [],
   "source": [
    "txt = open(yaml_text[4], 'r',encoding='utf-8')\n",
    "content = txt.read()\n",
    "Markdown(content)"
   ]
  },
  {
   "cell_type": "code",
   "execution_count": null,
   "metadata": {
    "hide_input": true
   },
   "outputs": [],
   "source": [
    "print(\"Lunghezza della sottosequenza crescente più lunga evitando i primi 4 elementi:\")\n",
    "maxsubseq3=widgets.IntText(\n",
    "    value=1,\n",
    "    disabled=False\n",
    ")\n",
    "display(maxsubseq3)\n",
    "#6"
   ]
  },
  {
   "cell_type": "code",
   "execution_count": null,
   "metadata": {
    "hide_input": true,
    "scrolled": true
   },
   "outputs": [],
   "source": [
    "button3 = widgets.Button(description='Crea tabella')\n",
    "out = widgets.Output()\n",
    "def on_button_clicked3(_):\n",
    "      # \"linking function with output\"\n",
    "      with out:\n",
    "        display(Javascript('IPython.notebook.execute_cells([25])'))\n",
    "          # what happens when we press the button\n",
    "          #result1 = p_1(graph1)\n",
    "          #clear_output()\n",
    "          #print(result1)\n",
    "button3.on_click(on_button_clicked3)\n",
    "# displaying button and its output together\n",
    "widgets.VBox([button3,out])"
   ]
  },
  {
   "cell_type": "code",
   "execution_count": null,
   "metadata": {
    "hide_input": true,
    "scrolled": true
   },
   "outputs": [],
   "source": [
    "if path.exists(\"./exercise_2/data/tmp/es4.txt\"):\n",
    "    f = open(\"./exercise_2/data/tmp/es4.txt\", \"r\")\n",
    "    line = f.readline()\n",
    "    num=[int(s) for s in re.findall(r'\\b\\d+\\b', line)]\n",
    "    lunghezza4=len(num)\n",
    "    sheet5=ipysheet.sheet(rows=1,columns=lunghezza4,column_headers=False, row_headers=False)\n",
    "    for i in range(0,lunghezza4):\n",
    "        ipysheet.cell(0,i,str(num[i]))\n",
    "else:\n",
    "    lunghezza4=int(maxsubseq3.value)\n",
    "    sheet5=ipysheet.sheet(rows=1,columns=lunghezza4,column_headers=False, row_headers=False)\n",
    "    for i in range(0,lunghezza4):\n",
    "        ipysheet.cell(0,i,\"0\")\n",
    "\n",
    "sheet5\n",
    "\n",
    "#41, 52, 63, 69, 79, 81"
   ]
  },
  {
   "cell_type": "code",
   "execution_count": null,
   "metadata": {
    "hide_input": true,
    "pycharm": {
     "name": "#%%\n"
    },
    "scrolled": true
   },
   "outputs": [],
   "source": [
    "words = ['Reset Tabella', 'Submit']\n",
    "items = [Button(description=w) for w in words]\n",
    "left_box = VBox([items[0]])\n",
    "right_box = VBox([items[1]])\n",
    "\n",
    "def reset4(_):\n",
    "    if path.exists(\"./exercise_2/data/tmp/es4.txt\"):\n",
    "        os.remove(\"./exercise_2/data/tmp/es4.txt\")\n",
    "    display(Javascript('IPython.notebook.execute_cells([25])'))\n",
    "\n",
    "def verify4(_):\n",
    "    f = open(\"./exercise_2/data/tmp/es4.txt\", \"w\")\n",
    "    f.write(str(list(map(int,ipysheet.to_array(sheet5)[0]))))\n",
    "    f.close()\n",
    "    lisSubwithoutElementInRange(values[0], list(ipysheet.to_array(sheet5)[0]), lunghezza4, 0, 3)\n",
    "    time.sleep(5)\n",
    "    display(Javascript('IPython.notebook.execute_cells([26])'))\n",
    "    \n",
    "        \n",
    "items[0].on_click(reset4)\n",
    "items[1].on_click(verify4)\n",
    "\n",
    "HBox([left_box, right_box])\n",
    "\n"
   ]
  },
  {
   "cell_type": "code",
   "execution_count": null,
   "metadata": {
    "hide_input": true,
    "pycharm": {
     "name": "#%%\n"
    },
    "scrolled": true
   },
   "outputs": [],
   "source": [
    "txt = open(yaml_text[5], 'r',encoding='utf-8')\n",
    "content = txt.read()\n",
    "Markdown(content)"
   ]
  },
  {
   "cell_type": "code",
   "execution_count": null,
   "metadata": {
    "hide_input": true
   },
   "outputs": [],
   "source": [
    "print(\"Lunghezza della sottosequenza crescente più lunga evitando gli elementi dal 13-esimo a 16-esimo:\")\n",
    "maxsubseq4=widgets.IntText(\n",
    "    value=1,\n",
    "    disabled=False\n",
    ")\n",
    "display(maxsubseq4)\n",
    "#9"
   ]
  },
  {
   "cell_type": "code",
   "execution_count": null,
   "metadata": {
    "hide_input": true
   },
   "outputs": [],
   "source": [
    "button4 = widgets.Button(description='Crea tabella')\n",
    "out = widgets.Output()\n",
    "def on_button_clicked4(_):\n",
    "      # \"linking function with output\"\n",
    "      with out:\n",
    "        display(Javascript('IPython.notebook.execute_cells([30])'))\n",
    "          # what happens when we press the button\n",
    "          #result1 = p_1(graph1)\n",
    "          #clear_output()\n",
    "          #print(result1)\n",
    "button4.on_click(on_button_clicked4)\n",
    "# displaying button and its output together\n",
    "widgets.VBox([button4,out])"
   ]
  },
  {
   "cell_type": "code",
   "execution_count": null,
   "metadata": {
    "hide_input": true
   },
   "outputs": [],
   "source": [
    "if path.exists(\"./exercise_2/data/tmp/es5.txt\"):\n",
    "    f = open(\"./exercise_2/data/tmp/es5.txt\", \"r\")\n",
    "    line = f.readline()\n",
    "    num=[int(s) for s in re.findall(r'\\b\\d+\\b', line)]\n",
    "    lunghezza5=len(num)\n",
    "    sheet6=ipysheet.sheet(rows=1,columns=lunghezza5,column_headers=False, row_headers=False)\n",
    "    for i in range(0,lunghezza5):\n",
    "        ipysheet.cell(0,i,str(num[i]))\n",
    "else:\n",
    "    lunghezza5=int(maxsubseq4.value)\n",
    "    sheet6=ipysheet.sheet(rows=1,columns=lunghezza5,column_headers=False, row_headers=False)\n",
    "    for i in range(0,lunghezza5):\n",
    "        ipysheet.cell(0,i,\"0\")\n",
    "\n",
    "sheet6\n",
    "\n",
    "#34, 42, 44, 49, 52, 60, 61, 64, 73"
   ]
  },
  {
   "cell_type": "code",
   "execution_count": null,
   "metadata": {
    "hide_input": true,
    "pycharm": {
     "name": "#%%\n"
    }
   },
   "outputs": [],
   "source": [
    "words = ['Reset Tabella', 'Submit']\n",
    "items = [Button(description=w) for w in words]\n",
    "left_box = VBox([items[0]])\n",
    "right_box = VBox([items[1]])\n",
    "\n",
    "def reset5(_):\n",
    "    if path.exists(\"./exercise_2/data/tmp/es5.txt\"):\n",
    "        os.remove(\"./exercise_2/data/tmp/es5.txt\")\n",
    "    display(Javascript('IPython.notebook.execute_cells([30])'))\n",
    "\n",
    "def verify5(_):\n",
    "    f = open(\"./exercise_2/data/tmp/es5.txt\", \"w\")\n",
    "    f.write(str(list(map(int,ipysheet.to_array(sheet6)[0]))))\n",
    "    f.close()\n",
    "    lisSubwithoutElementInRange(values[0], list(ipysheet.to_array(sheet6)[0]), lunghezza5, 12, 15)\n",
    "    time.sleep(5)\n",
    "    display(Javascript('IPython.notebook.execute_cells([31])'))\n",
    "    \n",
    "        \n",
    "items[0].on_click(reset5)\n",
    "items[1].on_click(verify5)\n",
    "\n",
    "HBox([left_box, right_box])\n",
    "\n",
    "\n"
   ]
  },
  {
   "cell_type": "code",
   "execution_count": null,
   "metadata": {
    "hide_input": true,
    "pycharm": {
     "name": "#%%\n"
    }
   },
   "outputs": [],
   "source": [
    "txt = open(yaml_text[6], 'r',encoding='utf-8')\n",
    "content = txt.read()\n",
    "Markdown(content)"
   ]
  },
  {
   "cell_type": "code",
   "execution_count": null,
   "metadata": {
    "hide_input": true,
    "pycharm": {
     "name": "#%%\n"
    }
   },
   "outputs": [],
   "source": [
    "print(\"Inserisci il numero di sottosequenze:\")\n",
    "nsubseq=widgets.IntText(\n",
    "    value=1,\n",
    "    disabled=False\n",
    ")\n",
    "display(nsubseq)\n",
    "#9\n"
   ]
  },
  {
   "cell_type": "code",
   "execution_count": null,
   "metadata": {
    "hide_input": true,
    "pycharm": {
     "name": "#%%\n"
    }
   },
   "outputs": [],
   "source": [
    "print(\"Inserisci la dimensione della sottosequenza più lunga:\")\n",
    "maxsubseq5=widgets.IntText(\n",
    "    value=1,\n",
    "    disabled=False\n",
    ")\n",
    "display(maxsubseq5)\n",
    "\n",
    "#4 sol errata\n",
    "#5 sol corretta"
   ]
  },
  {
   "cell_type": "code",
   "execution_count": null,
   "metadata": {
    "hide_input": true,
    "pycharm": {
     "name": "#%%\n"
    }
   },
   "outputs": [],
   "source": [
    "button5 = widgets.Button(description='Crea tabella')\n",
    "out = widgets.Output()\n",
    "def on_button_clicked5(_):\n",
    "      # \"linking function with output\"\n",
    "      with out:\n",
    "        display(Javascript('IPython.notebook.execute_cells([36])'))\n",
    "          # what happens when we press the button\n",
    "          #result1 = p_1(graph1)\n",
    "          #clear_output()\n",
    "          #print(result1)\n",
    "button5.on_click(on_button_clicked5)\n",
    "# displaying button and its output together\n",
    "widgets.VBox([button5,out])"
   ]
  },
  {
   "cell_type": "code",
   "execution_count": null,
   "metadata": {
    "hide_input": true,
    "pycharm": {
     "name": "#%%\n"
    }
   },
   "outputs": [],
   "source": [
    "if path.exists(\"./exercise_2/data/tmp/es6.txt\"):\n",
    "    f = open(\"./exercise_2/data/tmp/es6.txt\", \"r\")\n",
    "    lines = f.readlines()\n",
    "    num=[]\n",
    "    for line in lines:\n",
    "        num.append([int(s) for s in re.findall(r'\\b\\d+\\b', line)])\n",
    "    r=len(num)\n",
    "    c=len(num[0])\n",
    "    sheet7=ipysheet.sheet(rows=r,columns=c,column_headers=False, row_headers=False)\n",
    "    for i in range(0,r):\n",
    "        for j in range(0,c):\n",
    "            ipysheet.cell(i,j,str(num[i][j]))        \n",
    "else:\n",
    "    r=int(nsubseq.value)\n",
    "    c=int(maxsubseq5.value)\n",
    "    sheet7=ipysheet.sheet(rows=r,columns=c,column_headers=False, row_headers=False)\n",
    "    for i in range(0,r):\n",
    "        for j in range(0,c):\n",
    "            ipysheet.cell(i,j,\"0\")\n",
    "\n",
    "sheet7\n",
    "\n",
    "#34 ; 42,41,40,38; 44,43; 49,45; 52,46; 63,60,54,48; 69,66,61; 86,79,64,47; 81,80,73\n"
   ]
  },
  {
   "cell_type": "code",
   "execution_count": null,
   "metadata": {
    "hide_input": true,
    "pycharm": {
     "name": "#%%\n"
    }
   },
   "outputs": [],
   "source": [
    "words = ['Reset Tabella', 'Submit']\n",
    "items = [Button(description=w) for w in words]\n",
    "left_box = VBox([items[0]])\n",
    "#center_box = VBox([items[1]])\n",
    "right_box = VBox([items[1]])\n",
    "\n",
    "def reset6(_):\n",
    "    if path.exists(\"./exercise_2/data/tmp/es6.txt\"):\n",
    "        os.remove(\"./exercise_2/data/tmp/es6.txt\")\n",
    "    display(Javascript('IPython.notebook.execute_cells([36])'))\n",
    "\n",
    "def verify6(_):\n",
    "    f = open(\"./exercise_2/data/tmp/es6.txt\", \"w\")\n",
    "    aux=ipysheet.to_array(sheet7)\n",
    "    for elem in aux:\n",
    "        f.write(str(list(map(int,elem)))+\"\\n\")\n",
    "    f.close()\n",
    "    minimoNumSubDESC(values[0], list(ipysheet.to_array(sheet7)), r)\n",
    "    time.sleep(15)\n",
    "    display(Javascript('IPython.notebook.execute_cells([37])'))\n",
    "    \n",
    "        \n",
    "items[0].on_click(reset6)\n",
    "items[1].on_click(verify6)\n",
    "\n",
    "HBox([left_box, right_box])"
   ]
  },
  {
   "cell_type": "code",
   "execution_count": null,
   "metadata": {
    "hide_input": true
   },
   "outputs": [],
   "source": [
    "button6 = widgets.Button(description='Invia tutti i risultati')\n",
    "out = widgets.Output()\n",
    "def on_button_clicked6(_):\n",
    "      with out:\n",
    "        save_results(res_path)\n",
    "        clear_output()\n",
    "        print(\"Risultati inviati\")\n",
    "button6.on_click(on_button_clicked6)\n",
    "widgets.VBox([button6,out])"
   ]
  }
 ],
 "metadata": {
  "kernelspec": {
   "display_name": "Python 3",
   "language": "python",
   "name": "python3"
  },
  "language_info": {
   "codemirror_mode": {
    "name": "ipython",
    "version": 3
   },
   "file_extension": ".py",
   "mimetype": "text/x-python",
   "name": "python",
   "nbconvert_exporter": "python",
   "pygments_lexer": "ipython3",
   "version": "3.8.2"
  }
 },
 "nbformat": 4,
 "nbformat_minor": 1
}
