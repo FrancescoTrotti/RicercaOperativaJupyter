{
 "cells": [
  {
   "cell_type": "markdown",
   "metadata": {},
   "source": [
    "# Esercizio Sottosequenze"
   ]
  },
  {
   "cell_type": "code",
   "execution_count": null,
   "metadata": {
    "hide_input": false
   },
   "outputs": [],
   "source": [
    "from IPython.core.display import display, HTML, Markdown, display_html\n",
    "from string import Template\n",
    "import ipysheet\n",
    "import pandas as pd\n",
    "import json, random\n",
    "import yaml\n",
    "import math\n"
   ]
  },
  {
   "cell_type": "code",
   "execution_count": null,
   "metadata": {},
   "outputs": [],
   "source": [
    "#HTML('''<script>\n",
    "#code_show=true; \n",
    "#function code_toggle() {\n",
    "# if (code_show){\n",
    "# $('div.input').hide();\n",
    "# } else {\n",
    "# $('div.input').show();\n",
    "# }\n",
    "# code_show = !code_show\n",
    "#} \n",
    "#$( document ).ready(code_toggle);\n",
    "#</script>\n",
    "#The raw code for this IPython notebook is by default hidden for easier reading.\n",
    "#To toggle on/off the raw code, click <a href=\"javascript:code_toggle()\">here</a>.''')"
   ]
  },
  {
   "cell_type": "code",
   "execution_count": null,
   "metadata": {},
   "outputs": [],
   "source": [
    "%run -i \"exercise_2/script/load_config.py\"\n"
   ]
  },
  {
   "cell_type": "code",
   "execution_count": null,
   "metadata": {},
   "outputs": [],
   "source": [
    "txt = open(yaml_text[0], 'r',encoding='utf-8')\n",
    "content = txt.read()\n",
    "Markdown(content)\n",
    "\n",
    "\n",
    "\n"
   ]
  },
  {
   "cell_type": "code",
   "execution_count": null,
   "metadata": {
    "pycharm": {
     "name": "#%%\n"
    },
    "scrolled": true
   },
   "outputs": [],
   "source": [
    "#txt = open(yaml_table_path, 'r',encoding='utf-8')\n",
    "#content = txt.read()\n",
    "#Markdown(content)"
   ]
  },
  {
   "cell_type": "code",
   "execution_count": null,
   "metadata": {},
   "outputs": [],
   "source": [
    "file = open(yaml_table_path, 'r',encoding='utf-8')\n",
    "    \n",
    "data = []\n",
    "\n",
    "for line in file.readlines():\n",
    "    data.append(line.split('|'))\n",
    "\n",
    "df = pd.DataFrame(data=data)\n",
    "df.drop([0], axis='columns', inplace=True)\n",
    "df.drop(df.columns[len(df.columns)-1], axis='columns', inplace=True)\n",
    "display_html(df.to_html(index=False), raw=True)\n",
    "#x = df.to_html(index=False)\n",
    "#display_html(x, raw=True)\n",
    "                "
   ]
  },
  {
   "cell_type": "code",
   "execution_count": null,
   "metadata": {},
   "outputs": [],
   "source": [
    "print(\"Qui puoi compilare la tabella di supporto\")\n",
    "sheet1=ipysheet.sheet(rows=5,columns=len(df.columns),column_headers=False, row_headers=False)\n",
    "values=df.values.tolist()\n",
    "for i in range(0,len(df.columns)):\n",
    "    ipysheet.cell(0,i,\"-->\",read_only=True)\n",
    "    ipysheet.cell(1,i,\"\")\n",
    "    ipysheet.cell(2,i,values[0][i],read_only=True)\n",
    "    ipysheet.cell(3,i,\"\")\n",
    "    ipysheet.cell(4,i,\"<--\",read_only=True)\n",
    "\n",
    "sheet1"
   ]
  },
  {
   "cell_type": "code",
   "execution_count": null,
   "metadata": {
    "pycharm": {
     "name": "#%%\n"
    }
   },
   "outputs": [],
   "source": [
    "txt = open(yaml_text[1], 'r',encoding='utf-8')\n",
    "content = txt.read()\n",
    "Markdown(content)"
   ]
  },
  {
   "cell_type": "code",
   "execution_count": null,
   "metadata": {},
   "outputs": [],
   "source": [
    "maxsubseq = int(input(\"Inserisci la dimensione della sottosequenza crescente più lunga: \"))\n",
    "#9"
   ]
  },
  {
   "cell_type": "code",
   "execution_count": null,
   "metadata": {},
   "outputs": [],
   "source": [
    "sheet2=ipysheet.sheet(rows=1,columns=maxsubseq,column_headers=False, row_headers=False)\n",
    "for i in range(0,maxsubseq):\n",
    "    ipysheet.cell(0,i,\"\")\n",
    "\n",
    "sheet2\n",
    "#34, 42, 44, 49, 52, 63, 69, 79, 81"
   ]
  },
  {
   "cell_type": "code",
   "execution_count": null,
   "metadata": {
    "pycharm": {
     "name": "#%%\n"
    },
    "scrolled": false
   },
   "outputs": [],
   "source": [
    "from exercise_2.verifier.lis import lis\n",
    "lis(values[0], list(ipysheet.to_array(sheet2)[0]), maxsubseq)"
   ]
  },
  {
   "cell_type": "code",
   "execution_count": null,
   "metadata": {
    "pycharm": {
     "name": "#%%\n"
    }
   },
   "outputs": [],
   "source": [
    "txt = open(yaml_text[2], 'r',encoding='utf-8')\n",
    "content = txt.read()\n",
    "Markdown(content)"
   ]
  },
  {
   "cell_type": "code",
   "execution_count": null,
   "metadata": {},
   "outputs": [],
   "source": [
    "nseqlen = int(input(\"Inserisci la dimensione della N-sequenza più lunga: \"))\n",
    "#14"
   ]
  },
  {
   "cell_type": "code",
   "execution_count": null,
   "metadata": {},
   "outputs": [],
   "source": [
    "sheet3=ipysheet.sheet(rows=1,columns=nseqlen,column_headers=False, row_headers=False)\n",
    "for i in range(0,nseqlen):\n",
    "    ipysheet.cell(0,i,\"\")\n",
    "\n",
    "sheet3\n",
    "#34, 42, 44, 49, 52, 63, 69, 79, 81, 43, 46, 61, 64, 73"
   ]
  },
  {
   "cell_type": "code",
   "execution_count": null,
   "metadata": {
    "pycharm": {
     "name": "#%%\n"
    }
   },
   "outputs": [],
   "source": [
    "txt = open(yaml_text[3], 'r',encoding='utf-8')\n",
    "content = txt.read()\n",
    "Markdown(content)"
   ]
  },
  {
   "cell_type": "code",
   "execution_count": null,
   "metadata": {},
   "outputs": [],
   "source": [
    "maxsubseq2 = int(input(\"Inserisci la dimensione della sottosequenza contenente il dato valore più lunga: \"))\n",
    "#7"
   ]
  },
  {
   "cell_type": "code",
   "execution_count": null,
   "metadata": {},
   "outputs": [],
   "source": [
    "sheet4=ipysheet.sheet(rows=1,columns=maxsubseq2,column_headers=False, row_headers=False)\n",
    "for i in range(0,maxsubseq2):\n",
    "    ipysheet.cell(0,i,\"\")\n",
    "\n",
    "sheet4\n",
    "\n",
    "#34, 40, 45, 54, 61, 64, 73"
   ]
  },
  {
   "cell_type": "code",
   "execution_count": null,
   "metadata": {
    "pycharm": {
     "name": "#%%\n"
    }
   },
   "outputs": [],
   "source": [
    "txt = open(yaml_text[4], 'r',encoding='utf-8')\n",
    "content = txt.read()\n",
    "Markdown(content)"
   ]
  },
  {
   "cell_type": "code",
   "execution_count": null,
   "metadata": {},
   "outputs": [],
   "source": [
    "maxsubseq3 = int(input(\"Inserisci la dimensione della sottosequenza crescente più lunga: \"))\n",
    "#6"
   ]
  },
  {
   "cell_type": "code",
   "execution_count": null,
   "metadata": {},
   "outputs": [],
   "source": [
    "sheet5=ipysheet.sheet(rows=1,columns=maxsubseq3,column_headers=False, row_headers=False)\n",
    "for i in range(0,maxsubseq3):\n",
    "    ipysheet.cell(0,i,\"\")\n",
    "\n",
    "sheet5\n",
    "\n",
    "#41, 52, 63, 69, 79, 81"
   ]
  },
  {
   "cell_type": "code",
   "execution_count": null,
   "metadata": {
    "pycharm": {
     "name": "#%%\n"
    },
    "scrolled": false
   },
   "outputs": [],
   "source": [
    "from exercise_2.verifier.liscutrange import lisSubwithoutElementInRange\n",
    "lisSubwithoutElementInRange(values[0], list(ipysheet.to_array(sheet5)[0]), maxsubseq3, 0, 3)"
   ]
  },
  {
   "cell_type": "code",
   "execution_count": null,
   "metadata": {
    "pycharm": {
     "name": "#%%\n"
    },
    "scrolled": true
   },
   "outputs": [],
   "source": [
    "txt = open(yaml_text[5], 'r',encoding='utf-8')\n",
    "content = txt.read()\n",
    "Markdown(content)"
   ]
  },
  {
   "cell_type": "code",
   "execution_count": null,
   "metadata": {},
   "outputs": [],
   "source": [
    "maxsubseq4 = int(input(\"Inserisci la dimensione della sottosequenza crescente più lunga: \"))\n",
    "#9"
   ]
  },
  {
   "cell_type": "code",
   "execution_count": null,
   "metadata": {},
   "outputs": [],
   "source": [
    "sheet5=ipysheet.sheet(rows=1,columns=maxsubseq4,column_headers=False, row_headers=False)\n",
    "for i in range(0,maxsubseq4):\n",
    "    ipysheet.cell(0,i,\"\")\n",
    "\n",
    "sheet5\n",
    "\n",
    "#34, 42, 44, 49, 52, 60, 61, 64, 73"
   ]
  },
  {
   "cell_type": "code",
   "execution_count": null,
   "metadata": {
    "pycharm": {
     "name": "#%%\n"
    }
   },
   "outputs": [],
   "source": [
    "from exercise_2.verifier.liscutrange import lisSubwithoutElementInRange\n",
    "lisSubwithoutElementInRange(values[0], list(ipysheet.to_array(sheet5)[0]), maxsubseq3, 12, 15)"
   ]
  },
  {
   "cell_type": "code",
   "execution_count": null,
   "metadata": {
    "pycharm": {
     "name": "#%%\n"
    },
    "scrolled": false
   },
   "outputs": [],
   "source": [
    "txt = open(yaml_text[6], 'r',encoding='utf-8')\n",
    "content = txt.read()\n",
    "Markdown(content)"
   ]
  },
  {
   "cell_type": "code",
   "execution_count": null,
   "metadata": {},
   "outputs": [],
   "source": [
    "txt = open(yaml_text[6], 'r',encoding='utf-8')\n",
    "content = txt.read()\n",
    "Markdown(content)"
   ]
  },
  {
   "cell_type": "code",
   "execution_count": null,
   "metadata": {
    "pycharm": {
     "name": "#%%\n"
    }
   },
   "outputs": [],
   "source": [
    "nsubseq = int(input(\"Inserisci il numero di sottosequenze: \"))\n",
    "#9"
   ]
  },
  {
   "cell_type": "code",
   "execution_count": null,
   "metadata": {
    "pycharm": {
     "name": "#%%\n"
    }
   },
   "outputs": [],
   "source": [
    "maxsubseq5 = int(input(\"Inserisci la dimensione della sottosequenza più lunga: \"))\n",
    "#4 sol errata\n",
    "#5 sol corretta"
   ]
  },
  {
   "cell_type": "code",
   "execution_count": null,
   "metadata": {
    "pycharm": {
     "name": "#%%\n"
    }
   },
   "outputs": [],
   "source": [
    "sheet6=ipysheet.sheet(rows=nsubseq,columns=maxsubseq5,column_headers=False, row_headers=False)\n",
    "for i in range(0,nsubseq):\n",
    "    for j in range(0,maxsubseq5):\n",
    "        ipysheet.cell(i,j,\"\")\n",
    "\n",
    "sheet6\n",
    "\n",
    "#soluzione 'sbagliata' nell'esame\n",
    "#34 ; 42,41,40,38; 44,43; 49,45; 52,46; 63,60,54,48; 69,66,61; 86,79,64,47; 81,80,73\n",
    "\n",
    "#soluzione corretta dal verifier\n",
    "#34 ; 42,41,40,38; 44,43; 49,45; 52,46; 63,60,54,48,47; 69,66,61; 86,79,64; 81,80,73"
   ]
  },
  {
   "cell_type": "code",
   "execution_count": null,
   "metadata": {
    "pycharm": {
     "name": "#%%\n"
    }
   },
   "outputs": [],
   "source": [
    "from exercise_2.verifier.minNsubDesc import minimoNumSubDESC\n",
    "minimoNumSubDESC(values[0], list(ipysheet.to_array(sheet6)), nsubseq)"
   ]
  },
  {
   "cell_type": "code",
   "execution_count": null,
   "metadata": {},
   "outputs": [],
   "source": []
  }
 ],
 "metadata": {
  "kernelspec": {
   "display_name": "Python 3",
   "language": "python",
   "name": "python3"
  },
  "language_info": {
   "codemirror_mode": {
    "name": "ipython",
    "version": 3
   },
   "file_extension": ".py",
   "mimetype": "text/x-python",
   "name": "python",
   "nbconvert_exporter": "python",
   "pygments_lexer": "ipython3",
   "version": "3.7.7"
  }
 },
 "nbformat": 4,
 "nbformat_minor": 1
}
