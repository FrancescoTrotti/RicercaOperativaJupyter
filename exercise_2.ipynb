{
 "cells": [
  {
   "cell_type": "markdown",
   "metadata": {},
   "source": [
    "# Esercizio Sottosequenze"
   ]
  },
  {
   "cell_type": "code",
   "execution_count": 1,
   "metadata": {
    "hide_input": false
   },
   "outputs": [],
   "source": [
    "from IPython.core.display import display, HTML, Markdown, display_html\n",
    "from string import Template\n",
    "import ipysheet\n",
    "import pandas as pd\n",
    "import json, random\n",
    "import yaml\n",
    "import math\n"
   ]
  },
  {
   "cell_type": "code",
   "execution_count": 2,
   "metadata": {},
   "outputs": [
    {
     "data": {
      "text/html": [
       "<script>\n",
       "code_show=true; \n",
       "function code_toggle() {\n",
       " if (code_show){\n",
       " $('div.input').hide();\n",
       " } else {\n",
       " $('div.input').show();\n",
       " }\n",
       " code_show = !code_show\n",
       "} \n",
       "$( document ).ready(code_toggle);\n",
       "</script>\n",
       "The raw code for this IPython notebook is by default hidden for easier reading.\n",
       "To toggle on/off the raw code, click <a href=\"javascript:code_toggle()\">here</a>."
      ],
      "text/plain": [
       "<IPython.core.display.HTML object>"
      ]
     },
     "execution_count": 2,
     "metadata": {},
     "output_type": "execute_result"
    }
   ],
   "source": [
    "HTML('''<script>\n",
    "code_show=true; \n",
    "function code_toggle() {\n",
    " if (code_show){\n",
    " $('div.input').hide();\n",
    " } else {\n",
    " $('div.input').show();\n",
    " }\n",
    " code_show = !code_show\n",
    "} \n",
    "$( document ).ready(code_toggle);\n",
    "</script>\n",
    "The raw code for this IPython notebook is by default hidden for easier reading.\n",
    "To toggle on/off the raw code, click <a href=\"javascript:code_toggle()\">here</a>.''')"
   ]
  },
  {
   "cell_type": "code",
   "execution_count": 3,
   "metadata": {},
   "outputs": [],
   "source": [
    "%run -i \"exercise_2/script/load_config.py\"\n"
   ]
  },
  {
   "cell_type": "code",
   "execution_count": 4,
   "metadata": {},
   "outputs": [
    {
     "data": {
      "text/markdown": [
       "# Esercizio sulle sottosequenze\n",
       "Si consideri la seguente sequenza di numeri naturali"
      ],
      "text/plain": [
       "<IPython.core.display.Markdown object>"
      ]
     },
     "execution_count": 4,
     "metadata": {},
     "output_type": "execute_result"
    }
   ],
   "source": [
    "txt = open(yaml_text[0], 'r',encoding='utf-8')\n",
    "content = txt.read()\n",
    "Markdown(content)\n",
    "\n",
    "\n",
    "\n"
   ]
  },
  {
   "cell_type": "code",
   "execution_count": 5,
   "metadata": {
    "pycharm": {
     "name": "#%%\n"
    },
    "scrolled": true
   },
   "outputs": [],
   "source": [
    "#txt = open(yaml_table_path, 'r',encoding='utf-8')\n",
    "#content = txt.read()\n",
    "#Markdown(content)"
   ]
  },
  {
   "cell_type": "code",
   "execution_count": 6,
   "metadata": {},
   "outputs": [
    {
     "data": {
      "text/html": [
       "<table border=\"1\" class=\"dataframe\">\n",
       "  <thead>\n",
       "    <tr style=\"text-align: right;\">\n",
       "      <th>1</th>\n",
       "      <th>2</th>\n",
       "      <th>3</th>\n",
       "      <th>4</th>\n",
       "      <th>5</th>\n",
       "      <th>6</th>\n",
       "      <th>7</th>\n",
       "      <th>8</th>\n",
       "      <th>9</th>\n",
       "      <th>10</th>\n",
       "      <th>11</th>\n",
       "      <th>12</th>\n",
       "      <th>13</th>\n",
       "      <th>14</th>\n",
       "      <th>15</th>\n",
       "      <th>16</th>\n",
       "      <th>17</th>\n",
       "      <th>18</th>\n",
       "      <th>19</th>\n",
       "      <th>20</th>\n",
       "      <th>21</th>\n",
       "      <th>22</th>\n",
       "      <th>23</th>\n",
       "      <th>24</th>\n",
       "      <th>25</th>\n",
       "    </tr>\n",
       "  </thead>\n",
       "  <tbody>\n",
       "    <tr>\n",
       "      <td>34</td>\n",
       "      <td>42</td>\n",
       "      <td>44</td>\n",
       "      <td>49</td>\n",
       "      <td>41</td>\n",
       "      <td>52</td>\n",
       "      <td>63</td>\n",
       "      <td>69</td>\n",
       "      <td>40</td>\n",
       "      <td>60</td>\n",
       "      <td>86</td>\n",
       "      <td>45</td>\n",
       "      <td>66</td>\n",
       "      <td>54</td>\n",
       "      <td>79</td>\n",
       "      <td>81</td>\n",
       "      <td>43</td>\n",
       "      <td>46</td>\n",
       "      <td>38</td>\n",
       "      <td>61</td>\n",
       "      <td>80</td>\n",
       "      <td>48</td>\n",
       "      <td>64</td>\n",
       "      <td>73</td>\n",
       "      <td>47</td>\n",
       "    </tr>\n",
       "  </tbody>\n",
       "</table>"
      ]
     },
     "metadata": {},
     "output_type": "display_data"
    }
   ],
   "source": [
    "file = open(yaml_table_path, 'r',encoding='utf-8')\n",
    "    \n",
    "data = []\n",
    "\n",
    "for line in file.readlines():\n",
    "    data.append(line.split('|'))\n",
    "\n",
    "df = pd.DataFrame(data=data)\n",
    "df.drop([0], axis='columns', inplace=True)\n",
    "df.drop(df.columns[len(df.columns)-1], axis='columns', inplace=True)\n",
    "display_html(df.to_html(index=False), raw=True)\n",
    "#x = df.to_html(index=False)\n",
    "#display_html(x, raw=True)\n",
    "                "
   ]
  },
  {
   "cell_type": "code",
   "execution_count": 7,
   "metadata": {},
   "outputs": [
    {
     "data": {
      "text/markdown": [
       "Qui puoi compilare la tabella di supporto"
      ],
      "text/plain": [
       "<IPython.core.display.Markdown object>"
      ]
     },
     "execution_count": 7,
     "metadata": {},
     "output_type": "execute_result"
    }
   ],
   "source": [
    "txt = open(yaml_text[1], 'r',encoding='utf-8')\n",
    "content = txt.read()\n",
    "Markdown(content)"
   ]
  },
  {
   "cell_type": "code",
   "execution_count": 23,
   "metadata": {},
   "outputs": [
    {
     "data": {
      "application/vnd.jupyter.widget-view+json": {
       "model_id": "89941347bafe4517b84fb13fedf8f430",
       "version_major": 5,
       "version_minor": 4
      },
      "text/plain": [
       "Sheet(cells=(Cell(column_end=0, column_start=0, row_end=0, row_start=0, type='text', value='-->'), Cell(column…"
      ]
     },
     "metadata": {},
     "output_type": "display_data"
    }
   ],
   "source": [
    "sheet1=ipysheet.sheet(rows=5,columns=len(df.columns),column_headers=False, row_headers=False)\n",
    "values=df.values.tolist()\n",
    "for i in range(0,len(df.columns)):\n",
    "    ipysheet.cell(0,i,\"-->\")\n",
    "    ipysheet.cell(2,i,values[0][i])\n",
    "    ipysheet.cell(4,i,\"<--\")\n",
    "\n",
    "sheet1"
   ]
  },
  {
   "cell_type": "code",
   "execution_count": 9,
   "metadata": {
    "pycharm": {
     "name": "#%%\n"
    }
   },
   "outputs": [
    {
     "data": {
      "text/markdown": [
       "## Problema 4.1\n",
       "Trovare una sottosequenza crescente che sia la più lunga possibile. \\\n",
       "Specificare quanto è lunga e fornirla.\n"
      ],
      "text/plain": [
       "<IPython.core.display.Markdown object>"
      ]
     },
     "execution_count": 9,
     "metadata": {},
     "output_type": "execute_result"
    }
   ],
   "source": [
    "txt = open(yaml_text[2], 'r',encoding='utf-8')\n",
    "content = txt.read()\n",
    "Markdown(content)"
   ]
  },
  {
   "cell_type": "code",
   "execution_count": 10,
   "metadata": {
    "pycharm": {
     "name": "#%%\n"
    }
   },
   "outputs": [
    {
     "data": {
      "text/markdown": [
       "## Problema 4.2\n",
       "Una sequenza è detta una N-sequenza, o sequenza crescente con un possibile ripen- samento, se esiste un indice i tale cha ciascuno degli elementi della sequenza esclusi al più il primo e l’i-esimo sono strettamente maggiori dell’elemento che immediatamente li precede nella sequenza. \\\n",
       "Trovare la più lunga N-sequenza che sia una sottosequenza della sequenza data. \\\n",
       "Specificare quanto è lunga e fornirla."
      ],
      "text/plain": [
       "<IPython.core.display.Markdown object>"
      ]
     },
     "execution_count": 10,
     "metadata": {},
     "output_type": "execute_result"
    }
   ],
   "source": [
    "txt = open(yaml_text[3], 'r',encoding='utf-8')\n",
    "content = txt.read()\n",
    "Markdown(content)"
   ]
  },
  {
   "cell_type": "code",
   "execution_count": 11,
   "metadata": {
    "pycharm": {
     "name": "#%%\n"
    }
   },
   "outputs": [
    {
     "data": {
      "text/markdown": [
       "## Problema 4.3\n",
       "Trovare la più lunga sottosequenza crescente che includa l’elemento di valore 40.\\\n",
       "Specificare quanto è lunga e fornirla."
      ],
      "text/plain": [
       "<IPython.core.display.Markdown object>"
      ]
     },
     "execution_count": 11,
     "metadata": {},
     "output_type": "execute_result"
    }
   ],
   "source": [
    "txt = open(yaml_text[4], 'r',encoding='utf-8')\n",
    "content = txt.read()\n",
    "Markdown(content)"
   ]
  },
  {
   "cell_type": "code",
   "execution_count": 12,
   "metadata": {
    "pycharm": {
     "name": "#%%\n"
    }
   },
   "outputs": [
    {
     "data": {
      "text/markdown": [
       "## Problema 4.3\n",
       "Trovare una sottosequenza crescente che sia la più lunga possibile ma eviti di utilizzare i primi 4 elementi. \\\n",
       "Specificare quanto è lunga e fornirla.\n"
      ],
      "text/plain": [
       "<IPython.core.display.Markdown object>"
      ]
     },
     "execution_count": 12,
     "metadata": {},
     "output_type": "execute_result"
    }
   ],
   "source": [
    "txt = open(yaml_text[5], 'r',encoding='utf-8')\n",
    "content = txt.read()\n",
    "Markdown(content)"
   ]
  },
  {
   "cell_type": "code",
   "execution_count": 13,
   "metadata": {
    "pycharm": {
     "name": "#%%\n"
    },
    "scrolled": true
   },
   "outputs": [
    {
     "data": {
      "text/markdown": [
       "## Problema 4.5\n",
       "Trovare una sottosequenza crescente che sia la più lunga possibile ma eviti di utilizzare gli elementi dal 13-esimo a 16-esimo.\\\n",
       "Specificare quanto è lunga e fornirla."
      ],
      "text/plain": [
       "<IPython.core.display.Markdown object>"
      ]
     },
     "execution_count": 13,
     "metadata": {},
     "output_type": "execute_result"
    }
   ],
   "source": [
    "txt = open(yaml_text[6], 'r',encoding='utf-8')\n",
    "content = txt.read()\n",
    "Markdown(content)"
   ]
  },
  {
   "cell_type": "code",
   "execution_count": 14,
   "metadata": {
    "pycharm": {
     "name": "#%%\n"
    }
   },
   "outputs": [
    {
     "data": {
      "text/markdown": [
       "## Problema 4.6\n",
       "Fornire un minimo numero di sottosequenze decrescenti tali che ogni elemento della sequenza fornita ricada in almeno una di esse.\\\n",
       "Specificare quante sono e fornirle."
      ],
      "text/plain": [
       "<IPython.core.display.Markdown object>"
      ]
     },
     "execution_count": 14,
     "metadata": {},
     "output_type": "execute_result"
    }
   ],
   "source": [
    "txt = open(yaml_text[7], 'r',encoding='utf-8')\n",
    "content = txt.read()\n",
    "Markdown(content)"
   ]
  },
  {
   "cell_type": "code",
   "execution_count": null,
   "metadata": {},
   "outputs": [],
   "source": []
  },
  {
   "cell_type": "code",
   "execution_count": null,
   "metadata": {},
   "outputs": [],
   "source": []
  },
  {
   "cell_type": "code",
   "execution_count": null,
   "metadata": {},
   "outputs": [],
   "source": []
  }
 ],
 "metadata": {
  "kernelspec": {
   "display_name": "Python 3",
   "language": "python",
   "name": "python3"
  },
  "language_info": {
   "codemirror_mode": {
    "name": "ipython",
    "version": 3
   },
   "file_extension": ".py",
   "mimetype": "text/x-python",
   "name": "python",
   "nbconvert_exporter": "python",
   "pygments_lexer": "ipython3",
   "version": "3.7.7"
  }
 },
 "nbformat": 4,
 "nbformat_minor": 1
}
